{
  "nbformat": 4,
  "nbformat_minor": 0,
  "metadata": {
    "colab": {
      "provenance": []
    },
    "kernelspec": {
      "name": "python3",
      "display_name": "Python 3"
    },
    "language_info": {
      "name": "python"
    }
  },
  "cells": [
    {
      "cell_type": "code",
      "execution_count": null,
      "metadata": {
        "id": "HbXamLI58c0p"
      },
      "outputs": [],
      "source": []
    },
    {
      "cell_type": "code",
      "source": [
        "for i in range(1,10):\n",
        " for j in range(1,10):\n",
        "   product = i*j\n",
        "   print(f\"{i}x{j}={product}\")"
      ],
      "metadata": {
        "colab": {
          "base_uri": "https://localhost:8080/"
        },
        "id": "FRcqHeJTAAUv",
        "outputId": "0f74a5e9-4966-49b7-9e77-d8e55a9d122a"
      },
      "execution_count": null,
      "outputs": [
        {
          "output_type": "stream",
          "name": "stdout",
          "text": [
            "1x1=1\n",
            "1x2=2\n",
            "1x3=3\n",
            "1x4=4\n",
            "1x5=5\n",
            "1x6=6\n",
            "1x7=7\n",
            "1x8=8\n",
            "1x9=9\n",
            "2x1=2\n",
            "2x2=4\n",
            "2x3=6\n",
            "2x4=8\n",
            "2x5=10\n",
            "2x6=12\n",
            "2x7=14\n",
            "2x8=16\n",
            "2x9=18\n",
            "3x1=3\n",
            "3x2=6\n",
            "3x3=9\n",
            "3x4=12\n",
            "3x5=15\n",
            "3x6=18\n",
            "3x7=21\n",
            "3x8=24\n",
            "3x9=27\n",
            "4x1=4\n",
            "4x2=8\n",
            "4x3=12\n",
            "4x4=16\n",
            "4x5=20\n",
            "4x6=24\n",
            "4x7=28\n",
            "4x8=32\n",
            "4x9=36\n",
            "5x1=5\n",
            "5x2=10\n",
            "5x3=15\n",
            "5x4=20\n",
            "5x5=25\n",
            "5x6=30\n",
            "5x7=35\n",
            "5x8=40\n",
            "5x9=45\n",
            "6x1=6\n",
            "6x2=12\n",
            "6x3=18\n",
            "6x4=24\n",
            "6x5=30\n",
            "6x6=36\n",
            "6x7=42\n",
            "6x8=48\n",
            "6x9=54\n",
            "7x1=7\n",
            "7x2=14\n",
            "7x3=21\n",
            "7x4=28\n",
            "7x5=35\n",
            "7x6=42\n",
            "7x7=49\n",
            "7x8=56\n",
            "7x9=63\n",
            "8x1=8\n",
            "8x2=16\n",
            "8x3=24\n",
            "8x4=32\n",
            "8x5=40\n",
            "8x6=48\n",
            "8x7=56\n",
            "8x8=64\n",
            "8x9=72\n",
            "9x1=9\n",
            "9x2=18\n",
            "9x3=27\n",
            "9x4=36\n",
            "9x5=45\n",
            "9x6=54\n",
            "9x7=63\n",
            "9x8=72\n",
            "9x9=81\n"
          ]
        }
      ]
    },
    {
      "cell_type": "code",
      "source": [
        "import random\n",
        "# 生成一個隨機數字，這是要猜的數字\n",
        "target_number = random.randint(1, 100)\n",
        "\n",
        "print(\"歡迎參加猜數字遊戲！\")\n",
        "\n",
        "while True:\n",
        "  guess = input(\"打入猜測的數字: \")\n",
        "  n = int(guess)\n",
        "  if n > target_number:\n",
        "    print(\"數字超過了\")\n",
        "  elif n < target_number:\n",
        "    print(\"數字太小了\")\n",
        "  elif n == target_number:\n",
        "    print(\"答對了!!!!\")\n",
        "    break\n",
        "\n",
        "print(\"遊戲結束\")\n",
        "\n",
        "\n",
        "\n"
      ],
      "metadata": {
        "colab": {
          "base_uri": "https://localhost:8080/"
        },
        "id": "bgJr8ThvB0MW",
        "outputId": "624e5031-a65b-4cfd-f6f5-c73478dced74"
      },
      "execution_count": null,
      "outputs": [
        {
          "output_type": "stream",
          "name": "stdout",
          "text": [
            "歡迎參加猜數字遊戲！\n",
            "打入猜測的數字: 458\n",
            "數字超過了\n",
            "打入猜測的數字: 45\n",
            "數字太小了\n",
            "打入猜測的數字: 80\n",
            "數字太小了\n",
            "打入猜測的數字: 90\n",
            "數字太小了\n",
            "打入猜測的數字: 99\n",
            "數字超過了\n",
            "打入猜測的數字: 95\n",
            "答對了!!!!\n",
            "遊戲結束\n"
          ]
        }
      ]
    }
  ]
}