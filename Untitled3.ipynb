{
  "nbformat": 4,
  "nbformat_minor": 0,
  "metadata": {
    "colab": {
      "provenance": [],
      "authorship_tag": "ABX9TyPLsAMBs6n9wWKRRVkWQMXV",
      "include_colab_link": true
    },
    "kernelspec": {
      "name": "python3",
      "display_name": "Python 3"
    },
    "language_info": {
      "name": "python"
    }
  },
  "cells": [
    {
      "cell_type": "markdown",
      "metadata": {
        "id": "view-in-github",
        "colab_type": "text"
      },
      "source": [
        "<a href=\"https://colab.research.google.com/github/yihanweee/HW4/blob/main/Untitled3.ipynb\" target=\"_parent\"><img src=\"https://colab.research.google.com/assets/colab-badge.svg\" alt=\"Open In Colab\"/></a>"
      ]
    },
    {
      "cell_type": "code",
      "execution_count": 3,
      "metadata": {
        "colab": {
          "base_uri": "https://localhost:8080/"
        },
        "id": "VS7lFJpDDJCl",
        "outputId": "dbc2034e-d102-4637-8ed3-fde717cf1e94"
      },
      "outputs": [
        {
          "output_type": "stream",
          "name": "stdout",
          "text": [
            "\n",
            "想查詢什麼中藥呢？(名稱/出典/處方/效能/適應症/結束查詢)：名稱\n",
            "藿香正氣《丸》\n",
            "\n",
            "想查詢什麼中藥呢？(名稱/出典/處方/效能/適應症/結束查詢)：出典\n",
            "藿香正氣《丸》的出典為:太平惠民合劑局方\n",
            "\n",
            "想查詢什麼中藥呢？(名稱/出典/處方/效能/適應症/結束查詢)：處方\n",
            "藿香正氣《丸》的處方為:\n",
            "大腹皮：3公克\n",
            "茯苓：3公克\n",
            "白芷：3公克\n",
            "紫蘇葉：3公克\n",
            "陳皮：2公克\n",
            "桔梗：2公克\n",
            "白朮：2公克\n",
            "厚朴：2公克\n",
            "半夏麴：2公克\n",
            "炙甘草：1公克\n",
            "藿香：3公克\n",
            "生薑：3公克\n",
            "大棗：1公克\n",
            "總克數為：30公克\n",
            "\n",
            "想查詢什麼中藥呢？(名稱/出典/處方/效能/適應症/結束查詢)：效能\n",
            "藿香正氣《丸》的效能是:解表化濕，理氣和中\n",
            "\n",
            "想查詢什麼中藥呢？(名稱/出典/處方/效能/適應症/結束查詢)：適應症\n",
            "藿香正氣《丸》的適應症有:\n",
            "外感風寒\n",
            "胃腸不適\n",
            "消化不良\n",
            "吐瀉\n",
            "食滯\n",
            "中暑\n",
            "不服水土\n",
            "\n",
            "想查詢什麼中藥呢？(名稱/出典/處方/效能/適應症/結束查詢)：結束查詢\n",
            "謝謝使用本系統，下次再見！\n"
          ]
        }
      ],
      "source": [
        "# 定義藿香正氣丸的資料\n",
        "prescription = {\n",
        "    '名稱': '藿香正氣《丸》',\n",
        "    '出典': '太平惠民合劑局方',\n",
        "    '處方': {\n",
        "        '大腹皮': 3,  # 公克\n",
        "        '茯苓': 3,\n",
        "        '白芷': 3,\n",
        "        '紫蘇葉': 3,\n",
        "        '陳皮': 2,\n",
        "        '桔梗': 2,\n",
        "        '白朮': 2,\n",
        "        '厚朴': 2,\n",
        "        '半夏麴': 2,\n",
        "        '炙甘草': 1,\n",
        "        '藿香': 3,\n",
        "        '生薑': 3,\n",
        "        '大棗': 1\n",
        "         },\n",
        "    '效能': '解表化濕，理氣和中',\n",
        "    '適應症': ['外感風寒', '胃腸不適', '消化不良', '吐瀉', '食滯', '中暑','不服水土']\n",
        "}\n",
        "\n",
        "# 使用 while 迴圈提供查詢服務\n",
        "while True:\n",
        "    query = input(\"\\n想查詢什麼中藥呢？(名稱/出典/處方/效能/適應症/結束查詢)：\")\n",
        "\n",
        "    if query == \"名稱\":\n",
        "        print(f\"{prescription['名稱']}\")\n",
        "    elif query == \"出典\":\n",
        "        print(f\"{prescription['名稱']}的出典為:{prescription['出典']}\")\n",
        "    elif query == \"適應症\":\n",
        "        print(f\"{prescription['名稱']}的適應症有:\")\n",
        "        for symptom in prescription['適應症']:\n",
        "            print(symptom)\n",
        "    elif query == \"處方\":\n",
        "        total_weight = sum(prescription['處方'].values())\n",
        "        print(f\"{prescription['名稱']}的處方為:\")\n",
        "        for medicine, weight in prescription['處方'].items():\n",
        "            print(f\"{medicine}：{weight}公克\")\n",
        "        print(f\"總克數為：{total_weight}公克\")\n",
        "    elif query == \"效能\":\n",
        "        print(f\"{prescription['名稱']}的效能是:{prescription['效能']}\")\n",
        "    elif query == \"結束查詢\":\n",
        "        print(\"謝謝使用本系統，下次再見！\")\n",
        "        break\n",
        "    else:\n",
        "        print(\"輸入無效，請重新輸入。\")"
      ]
    }
  ]
}